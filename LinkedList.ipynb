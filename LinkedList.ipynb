{
 "cells": [
  {
   "cell_type": "code",
   "execution_count": 6,
   "metadata": {},
   "outputs": [
    {
     "name": "stdout",
     "output_type": "stream",
     "text": [
      "1\n",
      "<__main__.Node object at 0x000001C548687D30>\n",
      "4\n"
     ]
    }
   ],
   "source": [
    "# Implementing singly LinkedList\n",
    "class Node(object):\n",
    "    def __init__(self, value):\n",
    "        self.value = value\n",
    "        self.nextNode = None\n",
    "\n",
    "        \n",
    "a = Node(1)\n",
    "b = Node(4)\n",
    "c = Node(3)\n",
    "a.nextNode = b\n",
    "b.nextNode = c\n",
    "print(a.value)\n",
    "print(a.nextNode)\n",
    "print(a.nextNode.value)"
   ]
  },
  {
   "cell_type": "code",
   "execution_count": 20,
   "metadata": {},
   "outputs": [
    {
     "name": "stdout",
     "output_type": "stream",
     "text": [
      "6\n",
      "5\n",
      "7\n",
      "None\n"
     ]
    }
   ],
   "source": [
    "# Doubly LinkedList Implementation\n",
    "class DoubleNode(object):\n",
    "    def __init__(self, value):\n",
    "        self.value = value\n",
    "        self.nextNode = None\n",
    "        self.prevNode = None\n",
    "\n",
    "a = Node(5)\n",
    "b = Node(6)\n",
    "c = Node(7)\n",
    "a.nextNode = b\n",
    "b.nextNode = c\n",
    "b.prevNode = a\n",
    "c.prevNode = b\n",
    "\n",
    "\n",
    "\n",
    "print(b.value)\n",
    "print(b.prevNode.value)\n",
    "print(b.nextNode.value)\n",
    "print(c.nextNode)\n",
    "\n"
   ]
  },
  {
   "cell_type": "code",
   "execution_count": 24,
   "metadata": {},
   "outputs": [
    {
     "name": "stdout",
     "output_type": "stream",
     "text": [
      "All Test Cases Passed\n"
     ]
    }
   ],
   "source": [
    "# Check whether Circular LinkedList\n",
    "\n",
    "class Node(object):\n",
    "    def __init__(self, value):\n",
    "        self.value = value\n",
    "        self.nextNode = None\n",
    "        \n",
    "def cycle_check(node):\n",
    "    node1 = node\n",
    "    node2 = node\n",
    "    \n",
    "    while node2 != None and node2.nextNode != None:\n",
    "        node1 = node1.nextNode\n",
    "        node2 = node2.nextNode.nextNode\n",
    "        if node1 == node2:\n",
    "            return True\n",
    "    return False\n",
    "\n",
    "# Testing Solution\n",
    "from nose.tools import assert_equal\n",
    "a = Node(1)\n",
    "b = Node(2)\n",
    "c = Node(3)\n",
    "a.nextNode = b\n",
    "b.nextNode = c\n",
    "c.nextNode = a # cycle here\n",
    "\n",
    "x = Node(4)\n",
    "y = Node(5)\n",
    "z = Node(6)\n",
    "x.nextNode = y\n",
    "y.nextNode = z # No cycle here\n",
    "\n",
    "class TestCycleCheck(object):\n",
    "    \n",
    "    def test(self,sol):\n",
    "        assert_equal(sol(a), True)\n",
    "        assert_equal(sol(x), False)\n",
    "        \n",
    "        print(\"All Test Cases Passed\")\n",
    "    \n",
    "# Run Test\n",
    "t = TestCycleCheck()\n",
    "t.test(cycle_check)\n"
   ]
  },
  {
   "cell_type": "code",
   "execution_count": 28,
   "metadata": {},
   "outputs": [
    {
     "name": "stdout",
     "output_type": "stream",
     "text": [
      "3\n",
      "1\n"
     ]
    }
   ],
   "source": [
    "# Reversing a LinkedList\n",
    "class Node(object):\n",
    "    \n",
    "    def __init__(self,value):\n",
    "        self.value = value\n",
    "        self.nextNode = None\n",
    "    \n",
    "\n",
    "def reversing(head):\n",
    "    current = head\n",
    "    prev_node = None\n",
    "    next_node = None\n",
    "    while current:\n",
    "        next_node = current.nextNode\n",
    "        current.nextNode = prev_node\n",
    "        prev_node = current\n",
    "        current = next_node\n",
    "    return prev_node\n",
    "\n",
    "a = Node(1)\n",
    "b = Node(2)\n",
    "c = Node(3)\n",
    "d = Node(4)\n",
    "\n",
    "a.nextNode = b\n",
    "b.nextNode = c\n",
    "c.nextNode = d\n",
    "print(b.nextNode.value)\n",
    "reversing(a)\n",
    "        \n",
    "print(b.nextNode.value)   "
   ]
  },
  {
   "cell_type": "code",
   "execution_count": 41,
   "metadata": {},
   "outputs": [
    {
     "data": {
      "text/plain": [
       "1"
      ]
     },
     "execution_count": 41,
     "metadata": {},
     "output_type": "execute_result"
    }
   ],
   "source": [
    "# Get the Nth from the last node\n",
    "class Node(object):\n",
    "    def __init__(self, value):\n",
    "        self.value = value\n",
    "        self.nextNode = None\n",
    "    \n",
    "    \n",
    "def nth_to_last_node(n, head):\n",
    "    left = head\n",
    "    right = head\n",
    "    for i in range(n-1):\n",
    "        if not right.nextNode:\n",
    "            return LookupError(\"Error: n is larger than the linked list\")\n",
    "        \n",
    "        right = right.nextNode\n",
    "    while right.nextNode:\n",
    "        left = left.nextNode\n",
    "        right = right.nextNode\n",
    "    return left.value\n",
    "        \n",
    "\n",
    "a = Node(1)\n",
    "b = Node(2)\n",
    "c = Node(3)\n",
    "d = Node(4)\n",
    "e = Node(5)\n",
    "a.nextNode = b\n",
    "b.nextNode = c\n",
    "c.nextNode = d\n",
    "d.nextNode = e\n",
    "\n",
    "nth_to_last_node(5, a)"
   ]
  },
  {
   "cell_type": "code",
   "execution_count": 15,
   "metadata": {},
   "outputs": [
    {
     "name": "stdout",
     "output_type": "stream",
     "text": [
      "5 4 3 2 1 \n",
      "8 7 6 \n",
      "55197\n",
      "5 5 1 9 7 \n"
     ]
    }
   ],
   "source": [
    "# Adding 2 linked list and returning the result in a list \n",
    "\n",
    "class Node():\n",
    "     def __init__(self, new_data):\n",
    "            self.data = new_data\n",
    "            self.next = None\n",
    "\n",
    "class LinkedList():\n",
    "    def __init__(self):\n",
    "        self.head = None\n",
    "        \n",
    "    def append(self, new_data):\n",
    "        node = Node(new_data)\n",
    "        if self.head == None:\n",
    "            self.head = node\n",
    "        else:\n",
    "            node.next = self.head\n",
    "            self.head = node\n",
    "    def printlist(self):\n",
    "        cur = self.head\n",
    "        while cur:\n",
    "            print(cur.data, end=' ')\n",
    "            cur  = cur.next\n",
    "        print()\n",
    "        \n",
    "    def sum(self):\n",
    "        c = self.head\n",
    "        total = 0\n",
    "        while c:\n",
    "            total *= 10\n",
    "            total += c.data\n",
    "            c = c.next\n",
    "        return total\n",
    "    \n",
    "\n",
    "l1 = LinkedList()\n",
    "l1.append(1)\n",
    "l1.append(2)\n",
    "l1.append(3)\n",
    "l1.append(4)\n",
    "l1.append(5)\n",
    "l2 = LinkedList()\n",
    "l2.append(6)\n",
    "l2.append(7)\n",
    "l2.append(8)\n",
    "l1.printlist()\n",
    "l2.printlist()\n",
    "\n",
    "\n",
    "\n",
    "\n",
    "t = l1.sum() + l2.sum()\n",
    "print(t)\n",
    "\n",
    "li = [int(i) for i in str(t)]\n",
    "l3 = LinkedList()\n",
    "for i in li[::-1]:\n",
    "    l3.append(i)\n",
    "l3.printlist()\n"
   ]
  },
  {
   "cell_type": "code",
   "execution_count": null,
   "metadata": {},
   "outputs": [],
   "source": [
    "# Find the longest substring in alphabetical order\n",
    "s = 'abcdcvwxyzsedacds'\n",
    "longest = \"\"\n",
    "maximum = \"\"\n",
    "for i in range(len(s)-1):\n",
    "    if s[i] <= s[i+1]:\n",
    "        longest += s[i]\n",
    "        if (i == len(s)-2):\n",
    "            longest = longest + s[i+1]\n",
    "    else:\n",
    "        longest = longest + s[i]\n",
    "        if (len(longest) > len(maximum)):\n",
    "            maximum = longest\n",
    "        longest = \"\"\n",
    "if len(s) == 1:\n",
    "    longest = s\n",
    "\n",
    "if (len(longest) > len(maximum)):\n",
    "    "
   ]
  },
  {
   "cell_type": "code",
   "execution_count": 41,
   "metadata": {},
   "outputs": [
    {
     "name": "stdout",
     "output_type": "stream",
     "text": [
      "{'s': 4, 't': 1, 'u': 1, 'd': 4, 'n': 1, 'a': 2, 'j': 3, 'g': 1, 'h': 2, 'f': 2, 'k': 2}\n",
      "s occurs 4 times\n",
      "t occurs 1 times\n",
      "u occurs 1 times\n",
      "d occurs 4 times\n",
      "n occurs 1 times\n",
      "a occurs 2 times\n",
      "j occurs 3 times\n",
      "g occurs 1 times\n",
      "h occurs 2 times\n",
      "f occurs 2 times\n",
      "k occurs 2 times\n"
     ]
    }
   ],
   "source": [
    "# to print the duplicate characters in a string/ 1st non repeating character/ count of characters in a string\n",
    "import collections\n",
    "\n",
    "stri = 'studnasjaghfkdhdsjdjfks'\n",
    "\n",
    "d = dict()\n",
    "for i in stri:\n",
    "    if i in d.keys():\n",
    "        d[i] += 1\n",
    "    else:\n",
    "        d[i] = 1\n",
    "print(d)\n",
    "index = None\n",
    "#for key in d:\n",
    " #   if d[key] == 1:\n",
    "  #      index = key\n",
    "   #     break\n",
    "#print(index)\n",
    "\n",
    "# duplicate\n",
    "#for key in d:\n",
    " #   if d[key] > 1:\n",
    "  #      print(key, d[key])\n",
    "\n",
    "# count\n",
    "for key in d:\n",
    "    print(\"{} occurs {} times\".format(key, d[key]))"
   ]
  },
  {
   "cell_type": "code",
   "execution_count": 38,
   "metadata": {},
   "outputs": [
    {
     "name": "stdout",
     "output_type": "stream",
     "text": [
      "Enter your string heresglhefihfiacknckqQWEIDNFKXVVN12344532ddjsjd\n",
      "vowels = 6 and consonants = 29\n"
     ]
    }
   ],
   "source": [
    "# print the number of vowels and consonants\n",
    "\n",
    "def findSum(astr):\n",
    "    vowels = 0\n",
    "    consonants = 0\n",
    "    astr = astr.lower()\n",
    "    for i in range(0, len(astr)):\n",
    "        if astr[i] in ('a','e','i','o','u'):\n",
    "            vowels += 1\n",
    "        elif (astr[i] >= 'a' and astr[i] <= 'z'):\n",
    "            consonants += 1\n",
    "    print(\"vowels = {} and consonants = {}\".format(vowels, consonants))\n",
    "\n",
    "a = input(\"Enter your string here\")\n",
    "findSum(a)"
   ]
  },
  {
   "cell_type": "code",
   "execution_count": 44,
   "metadata": {},
   "outputs": [
    {
     "data": {
      "text/plain": [
       "'ew era 321 dna ehs si 123'"
      ]
     },
     "execution_count": 44,
     "metadata": {},
     "output_type": "execute_result"
    }
   ],
   "source": [
    "# how to reverse each word in a string\n",
    "def eachWordReverse(s):\n",
    "    l = s.split(' ')\n",
    "    # list comprehension and reversing each word\n",
    "    newWords = [word[::-1] for word in l]\n",
    "    # joining the new list of words\n",
    "    newsentence = ' '.join(newWords)\n",
    "    return newsentence\n",
    "\n",
    "s = \"we are 123 and she is 321\"\n",
    "eachWordReverse(s)\n",
    "    "
   ]
  },
  {
   "cell_type": "code",
   "execution_count": 48,
   "metadata": {},
   "outputs": [
    {
     "data": {
      "text/plain": [
       "True"
      ]
     },
     "execution_count": 48,
     "metadata": {},
     "output_type": "execute_result"
    }
   ],
   "source": [
    "# check if a string is a rotation of the other\n",
    "\n",
    "def check(str1, str2):\n",
    "    if len(str1) != len(str2):\n",
    "        return 0\n",
    "    str11 = str1 + str1\n",
    "    if str2 in str11:\n",
    "        return True\n",
    "    else:\n",
    "        return False\n",
    "\n",
    "check('ABCD', 'DABC')\n"
   ]
  },
  {
   "cell_type": "code",
   "execution_count": null,
   "metadata": {},
   "outputs": [],
   "source": [
    "# how for loop works\n",
    "iter_obj = iter(iterable)\n",
    "while True:\n",
    "    try:\n",
    "        element = next(iter_obj)\n",
    "    except StopIteration:\n",
    "        break\n",
    "        \n"
   ]
  },
  {
   "cell_type": "code",
   "execution_count": 1,
   "metadata": {},
   "outputs": [
    {
     "data": {
      "text/plain": [
       "1"
      ]
     },
     "execution_count": 1,
     "metadata": {},
     "output_type": "execute_result"
    }
   ],
   "source": [
    "# Own Iterator\n",
    "class powThree:\n",
    "    def __init__(self, max = 0):\n",
    "        self.max = max\n",
    "        \n",
    "    def __iter__(self):\n",
    "        self.n = 0\n",
    "        return self\n",
    "    \n",
    "    def __next__(self):\n",
    "        if self.n <= self.max:\n",
    "            result = 3 ** self.n\n",
    "            self.n += 1\n",
    "            return result\n",
    "        else:\n",
    "            raise StopIteration\n",
    "\n",
    "a = powThree(4)\n",
    "i = iter(a)\n",
    "next(i)"
   ]
  },
  {
   "cell_type": "code",
   "execution_count": 2,
   "metadata": {},
   "outputs": [
    {
     "data": {
      "text/plain": [
       "3"
      ]
     },
     "execution_count": 2,
     "metadata": {},
     "output_type": "execute_result"
    }
   ],
   "source": [
    "next(i)"
   ]
  },
  {
   "cell_type": "code",
   "execution_count": 3,
   "metadata": {},
   "outputs": [
    {
     "data": {
      "text/plain": [
       "9"
      ]
     },
     "execution_count": 3,
     "metadata": {},
     "output_type": "execute_result"
    }
   ],
   "source": [
    "next(i)"
   ]
  },
  {
   "cell_type": "code",
   "execution_count": 4,
   "metadata": {},
   "outputs": [
    {
     "data": {
      "text/plain": [
       "27"
      ]
     },
     "execution_count": 4,
     "metadata": {},
     "output_type": "execute_result"
    }
   ],
   "source": [
    "next(i)"
   ]
  },
  {
   "cell_type": "code",
   "execution_count": 5,
   "metadata": {},
   "outputs": [
    {
     "data": {
      "text/plain": [
       "81"
      ]
     },
     "execution_count": 5,
     "metadata": {},
     "output_type": "execute_result"
    }
   ],
   "source": [
    "next(i)"
   ]
  },
  {
   "cell_type": "code",
   "execution_count": 6,
   "metadata": {},
   "outputs": [
    {
     "ename": "StopIteration",
     "evalue": "",
     "output_type": "error",
     "traceback": [
      "\u001b[1;31m---------------------------------------------------------------------------\u001b[0m",
      "\u001b[1;31mStopIteration\u001b[0m                             Traceback (most recent call last)",
      "\u001b[1;32m<ipython-input-6-a883b34d6d8a>\u001b[0m in \u001b[0;36m<module>\u001b[1;34m\u001b[0m\n\u001b[1;32m----> 1\u001b[1;33m \u001b[0mnext\u001b[0m\u001b[1;33m(\u001b[0m\u001b[0mi\u001b[0m\u001b[1;33m)\u001b[0m\u001b[1;33m\u001b[0m\u001b[1;33m\u001b[0m\u001b[0m\n\u001b[0m",
      "\u001b[1;32m<ipython-input-1-d1d8a215e2d0>\u001b[0m in \u001b[0;36m__next__\u001b[1;34m(self)\u001b[0m\n\u001b[0;32m     14\u001b[0m             \u001b[1;32mreturn\u001b[0m \u001b[0mresult\u001b[0m\u001b[1;33m\u001b[0m\u001b[1;33m\u001b[0m\u001b[0m\n\u001b[0;32m     15\u001b[0m         \u001b[1;32melse\u001b[0m\u001b[1;33m:\u001b[0m\u001b[1;33m\u001b[0m\u001b[1;33m\u001b[0m\u001b[0m\n\u001b[1;32m---> 16\u001b[1;33m             \u001b[1;32mraise\u001b[0m \u001b[0mStopIteration\u001b[0m\u001b[1;33m\u001b[0m\u001b[1;33m\u001b[0m\u001b[0m\n\u001b[0m\u001b[0;32m     17\u001b[0m \u001b[1;33m\u001b[0m\u001b[0m\n\u001b[0;32m     18\u001b[0m \u001b[0ma\u001b[0m \u001b[1;33m=\u001b[0m \u001b[0mpowThree\u001b[0m\u001b[1;33m(\u001b[0m\u001b[1;36m4\u001b[0m\u001b[1;33m)\u001b[0m\u001b[1;33m\u001b[0m\u001b[1;33m\u001b[0m\u001b[0m\n",
      "\u001b[1;31mStopIteration\u001b[0m: "
     ]
    }
   ],
   "source": [
    "next(i)"
   ]
  },
  {
   "cell_type": "code",
   "execution_count": 7,
   "metadata": {},
   "outputs": [
    {
     "name": "stdout",
     "output_type": "stream",
     "text": [
      "This is printed first\n",
      "1\n",
      "This is printed second\n",
      "2\n",
      "This is printed at last\n",
      "3\n"
     ]
    }
   ],
   "source": [
    "# generators are a easier way to create iterators without using the next() and iter() functions\n",
    "# when a fuction yield some value instead of return it becomes generator (may have more return but atelast 1 yield )\n",
    "# The difference is that, while a return statement terminates a function entirely, yield statement pauses the function \n",
    "# saving all its states and later continues from there on successive calls.\n",
    "\n",
    "# A simple generator function\n",
    "def my_gen():\n",
    "    n = 1\n",
    "    print('This is printed first')\n",
    "    # Generator function contains yield statements\n",
    "    yield n\n",
    "\n",
    "    n += 1\n",
    "    print('This is printed second')\n",
    "    yield n\n",
    "\n",
    "    n += 1\n",
    "    print('This is printed at last')\n",
    "    yield n\n",
    "\n",
    "# Using for loop\n",
    "for item in my_gen():\n",
    "    print(item)    "
   ]
  },
  {
   "cell_type": "code",
   "execution_count": 8,
   "metadata": {},
   "outputs": [
    {
     "data": {
      "text/plain": [
       "'ssmfndna'"
      ]
     },
     "execution_count": 8,
     "metadata": {},
     "output_type": "execute_result"
    }
   ],
   "source": [
    "srt = \"andnfmss\"\n",
    "srt[::-1]"
   ]
  },
  {
   "cell_type": "code",
   "execution_count": 9,
   "metadata": {},
   "outputs": [
    {
     "name": "stdout",
     "output_type": "stream",
     "text": [
      "o\n",
      "l\n",
      "l\n",
      "e\n",
      "h\n"
     ]
    }
   ],
   "source": [
    "# generator to reverse a string\n",
    "def rev_str(my_str):\n",
    "    length = len(my_str)\n",
    "    for i in range(length - 1,-1,-1):\n",
    "        yield my_str[i]\n",
    "\n",
    "# For loop to reverse the string\n",
    "# Output:\n",
    "# o\n",
    "# l\n",
    "# l\n",
    "# e\n",
    "# h\n",
    "for char in rev_str(\"hello\"):\n",
    "     print(char)"
   ]
  },
  {
   "cell_type": "code",
   "execution_count": 10,
   "metadata": {},
   "outputs": [],
   "source": []
  },
  {
   "cell_type": "code",
   "execution_count": null,
   "metadata": {},
   "outputs": [],
   "source": []
  }
 ],
 "metadata": {
  "kernelspec": {
   "display_name": "Python 3",
   "language": "python",
   "name": "python3"
  },
  "language_info": {
   "codemirror_mode": {
    "name": "ipython",
    "version": 3
   },
   "file_extension": ".py",
   "mimetype": "text/x-python",
   "name": "python",
   "nbconvert_exporter": "python",
   "pygments_lexer": "ipython3",
   "version": "3.7.3"
  }
 },
 "nbformat": 4,
 "nbformat_minor": 2
}
