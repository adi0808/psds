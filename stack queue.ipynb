{
 "cells": [
  {
   "cell_type": "code",
   "execution_count": 2,
   "metadata": {},
   "outputs": [
    {
     "name": "stdout",
     "output_type": "stream",
     "text": [
      "True\n",
      "2\n",
      "1\n"
     ]
    }
   ],
   "source": [
    "# Stack Implementation\n",
    "\n",
    "class Stack(object):\n",
    "    \n",
    "    def __init__(self):\n",
    "        self.items = []\n",
    "    \n",
    "    def isEmpty(self):\n",
    "        return self.items == []\n",
    "    \n",
    "    def push(self,item):\n",
    "        self.items.append(item)\n",
    "        \n",
    "    def pop(self):\n",
    "        self.items.pop()\n",
    "    \n",
    "    def peek(self):\n",
    "        return self.items[len(self.items)-1]\n",
    "    \n",
    "    def size(self):\n",
    "        return len(self.items)\n",
    "    \n",
    "s = Stack()\n",
    "print(s.isEmpty())\n",
    "s.push(1)\n",
    "s.push('two')\n",
    "s.peek()\n",
    "print(s.size())\n",
    "s.pop()\n",
    "print(s.size())"
   ]
  },
  {
   "cell_type": "code",
   "execution_count": 2,
   "metadata": {},
   "outputs": [
    {
     "name": "stdout",
     "output_type": "stream",
     "text": [
      "3\n",
      "2\n"
     ]
    }
   ],
   "source": [
    "# Queue Implementation\n",
    "\n",
    "class Queue(object):\n",
    "    \n",
    "    def __init__(self):\n",
    "        self.items = []\n",
    "        \n",
    "    def isEmpty(self):\n",
    "        return self.items == []\n",
    "    \n",
    "    def enqueue(self, item):\n",
    "        self.items.insert(0, item)\n",
    "    \n",
    "    def dequeue(self):\n",
    "        self.items.pop()\n",
    "    \n",
    "    def size(self):\n",
    "        return len(self.items)\n",
    "    \n",
    "q = Queue()\n",
    "\n",
    "q.enqueue('ABC')\n",
    "q.enqueue(1)\n",
    "q.enqueue(234)\n",
    "print(q.size())\n",
    "q.dequeue()\n",
    "print(q.size())"
   ]
  },
  {
   "cell_type": "code",
   "execution_count": 12,
   "metadata": {},
   "outputs": [
    {
     "name": "stdout",
     "output_type": "stream",
     "text": [
      "1\n"
     ]
    }
   ],
   "source": [
    "# Deque (Doubly ended Queue)\n",
    "\n",
    "class Deque(object):\n",
    "    \n",
    "    def __init__(self):\n",
    "        self.items = []\n",
    "    \n",
    "    def isEmplty(self):\n",
    "        return self.items == []\n",
    "    \n",
    "    def insertAtBeg(self, item):\n",
    "        self.items.insert(0, item)\n",
    "    \n",
    "    def insestAtEnd(self, item):\n",
    "        self.items.append(item)\n",
    "    \n",
    "    def deleteAtBeg(self):\n",
    "        return self.items.pop(0)\n",
    "        \n",
    "    def deleteAtEnd(self):\n",
    "        return self.items.pop()\n",
    "        \n",
    "    def size(self):\n",
    "        return len(self.items) \n",
    "\n",
    "e = Deque()\n",
    "e.insertAtBeg('ABC')\n",
    "e.insestAtEnd(1)\n",
    "e.deleteAtBeg()\n",
    "print(e.size())"
   ]
  },
  {
   "cell_type": "code",
   "execution_count": 15,
   "metadata": {},
   "outputs": [
    {
     "data": {
      "text/plain": [
       "False"
      ]
     },
     "execution_count": 15,
     "metadata": {},
     "output_type": "execute_result"
    }
   ],
   "source": [
    "# Balanced Paranthesis check\n",
    "# {{([])}} should return true\n",
    "\n",
    "# we will use the stack class which we defined earlier\n",
    "def paranthesisCheck(s):\n",
    "    open = set('({[')\n",
    "    matches = set([('(',')'),('{','}'),('[',']')])\n",
    "    \n",
    "    if len(s)%2 != 0:\n",
    "        return False\n",
    "    stack = []\n",
    "    for paren in s:\n",
    "        if paren in open:\n",
    "            stack.append(paren)\n",
    "        else:\n",
    "            if len(stack) == 0:\n",
    "                return False\n",
    "            last = stack.pop()\n",
    "            if (last, paren) not in matches:\n",
    "                return False\n",
    "    return len(stack) == 0\n",
    "\n",
    "paranthesisCheck('{{(])}}')"
   ]
  },
  {
   "cell_type": "code",
   "execution_count": 16,
   "metadata": {},
   "outputs": [],
   "source": [
    "# Paranthesis check using stack class and using it's object in paranCheck class\n",
    "\n",
    "class Stacks(object):\n",
    "    \n",
    "    def __init__(self):\n",
    "        self.items = []\n",
    "    \n",
    "    def isEmpty(self):\n",
    "        return len(self.items) == 0\n",
    "    \n",
    "    def push(self, item):\n",
    "        self.items.append(item)\n",
    "    \n",
    "    def pop(self):\n",
    "        return self.items.pop()\n",
    "    \n",
    "    def peek(self):\n",
    "        if not self.isEmpty():\n",
    "            return self.items[len(self.itmes)-1]\n",
    "    \n",
    "    def get_stack(self):\n",
    "        return self.items\n",
    "        \n",
    "    \n",
    "    \n",
    "        "
   ]
  },
  {
   "cell_type": "code",
   "execution_count": 20,
   "metadata": {},
   "outputs": [],
   "source": [
    "def paranCheck(paranthesis):\n",
    "        s1 = Stacks()\n",
    "        \n",
    "        if len(paranthesis)%2 !=0:\n",
    "            return False\n",
    "        \n",
    "        open = set('({[')\n",
    "        matches = set([('(',')'),('{','}'),('[',']')])\n",
    "        \n",
    "        for i in paranthesis:\n",
    "            if i in open:\n",
    "                s1.push(i)\n",
    "            else:\n",
    "                if s1.isEmpty():\n",
    "                    return False\n",
    "                top = s1.pop()\n",
    "                if (top, i) not in matches:\n",
    "                    return False\n",
    "        return s1.isEmpty()\n"
   ]
  },
  {
   "cell_type": "code",
   "execution_count": 24,
   "metadata": {},
   "outputs": [
    {
     "data": {
      "text/plain": [
       "False"
      ]
     },
     "execution_count": 24,
     "metadata": {},
     "output_type": "execute_result"
    }
   ],
   "source": [
    "paranCheck(\"{{()}}}\")\n"
   ]
  },
  {
   "cell_type": "code",
   "execution_count": 25,
   "metadata": {},
   "outputs": [
    {
     "data": {
      "text/plain": [
       "'A'"
      ]
     },
     "execution_count": 25,
     "metadata": {},
     "output_type": "execute_result"
    }
   ],
   "source": [
    "# How to create a queue using 2 stack \n",
    "# we cosider list as stack as it behaves almost the same \n",
    "\n",
    "class QueueList(object):\n",
    "    \n",
    "    def __init__(self):\n",
    "        self.instack = []\n",
    "        self.outstack = []\n",
    "        \n",
    "    def enqueue(self, element):\n",
    "        self.instack.append(element)\n",
    "        \n",
    "    def dequeue(self):\n",
    "        if not self.outstack:\n",
    "            while self.instack:\n",
    "                self.outstack.append(self.instack.pop())\n",
    "        return self.outstack.pop()\n",
    "    \n",
    "q = QueueList()\n",
    "q.enqueue('A')\n",
    "q.enqueue('D')\n",
    "q.enqueue('C')\n",
    "q.enqueue('B')\n",
    "\n",
    "q.dequeue()\n"
   ]
  },
  {
   "cell_type": "code",
   "execution_count": null,
   "metadata": {},
   "outputs": [],
   "source": []
  }
 ],
 "metadata": {
  "kernelspec": {
   "display_name": "Python 3",
   "language": "python",
   "name": "python3"
  },
  "language_info": {
   "codemirror_mode": {
    "name": "ipython",
    "version": 3
   },
   "file_extension": ".py",
   "mimetype": "text/x-python",
   "name": "python",
   "nbconvert_exporter": "python",
   "pygments_lexer": "ipython3",
   "version": "3.7.3"
  }
 },
 "nbformat": 4,
 "nbformat_minor": 2
}
