{
 "cells": [
  {
   "cell_type": "code",
   "execution_count": 4,
   "metadata": {},
   "outputs": [
    {
     "name": "stdout",
     "output_type": "stream",
     "text": [
      "[1, 2, 3, 4, 5]\n"
     ]
    }
   ],
   "source": [
    "# Bullble Sort (compares adjacent 2 items and push the largest to the end at each pass)\n",
    "\n",
    "def bubbleSort(arr):\n",
    "    for k in range(len(arr)-1,0,-1):\n",
    "        for l in range(k):\n",
    "            if arr[l] > arr[l+1]:\n",
    "                temp = arr[l]\n",
    "                arr[l] = arr[l+1]\n",
    "                arr[l+1] = temp\n",
    "\n",
    "arr = [2,4,1,5,3]\n",
    "bubbleSort(arr)\n",
    "print(arr)\n",
    "            \n"
   ]
  },
  {
   "cell_type": "code",
   "execution_count": 1,
   "metadata": {},
   "outputs": [
    {
     "name": "stdout",
     "output_type": "stream",
     "text": [
      "[1, 2, 3, 4, 6, 7, 8]\n"
     ]
    }
   ],
   "source": [
    "# Selection Sort (Compares and send the highest to the last or the lowest one in the front in every pass)\n",
    "\n",
    "def selectionSort(arr):\n",
    "    for i in range(len(arr)-1,0,-1):\n",
    "        pos = 0\n",
    "        for j in range(1,i+1):\n",
    "            if arr[pos] < arr[j]:\n",
    "                pos = j\n",
    "        temp = arr[i]\n",
    "        arr[i] = arr[pos]\n",
    "        arr[pos] = temp\n",
    "\n",
    "arr = [2,1,4,7,6,8,3]\n",
    "selectionSort(arr)\n",
    "print(arr)\n",
    "            "
   ]
  },
  {
   "cell_type": "code",
   "execution_count": 6,
   "metadata": {},
   "outputs": [
    {
     "name": "stdout",
     "output_type": "stream",
     "text": [
      "[1, 2, 3, 4, 5, 6, 8, 9]\n"
     ]
    }
   ],
   "source": [
    "# Insertion Sort (checks 1st element and then 1st two element than 1st three in this way it sorts the list)\n",
    "\n",
    "def insertionSort(arr):\n",
    "    for i in range(1, len(arr)):\n",
    "        curValue = arr[i]\n",
    "        curPos = i\n",
    "        while curPos > 0 and arr[curPos-1] > curValue:\n",
    "            arr[curPos] = arr[curPos-1]\n",
    "            curPos = curPos-1\n",
    "        arr[curPos] = curValue\n",
    "\n",
    "arr = [2,4,3,1,5,6,9,8]\n",
    "insertionSort(arr)\n",
    "print(arr)"
   ]
  },
  {
   "cell_type": "code",
   "execution_count": 4,
   "metadata": {},
   "outputs": [
    {
     "name": "stdout",
     "output_type": "stream",
     "text": [
      "[1, 2, 3, 4, 5, 6, 8, 9]\n"
     ]
    }
   ],
   "source": [
    "# Shell Sort (Enhancment of Insertion Sort)\n",
    "# Basically breaks the list into multiple sublist and sort them just like the insertion sort does\n",
    "\n",
    "def shellSort(array):\n",
    "    gap = len(array)//2\n",
    "    while gap > 0:\n",
    "        for start in range(gap):\n",
    "            gap_insertion(array, start, gap)\n",
    "        \n",
    "        gap = gap//2\n",
    "     \n",
    "def gap_insertion(arr, start, blank):\n",
    "    for i in range(start+blank, len(arr), blank):\n",
    "        currValue = arr[i]\n",
    "        curPos = i\n",
    "        while curPos >= blank and arr[curPos - blank] > currValue:\n",
    "            arr[curPos] = arr[curPos-blank]\n",
    "            curPos = curPos - blank\n",
    "        arr[curPos] = currValue\n",
    "\n",
    "arr = [2,4,3,1,5,6,9,8]\n",
    "shellSort(arr)\n",
    "print(arr)"
   ]
  },
  {
   "cell_type": "code",
   "execution_count": 9,
   "metadata": {},
   "outputs": [
    {
     "name": "stdout",
     "output_type": "stream",
     "text": [
      "[1, 2, 3, 4, 5, 6, 8, 9]\n"
     ]
    }
   ],
   "source": [
    "# Merge Sort (Divide and Conquer)\n",
    "\n",
    "def mergeSort(arr):\n",
    "    if len(arr) > 1:\n",
    "        mid = len(arr)//2\n",
    "        leftarr = arr[:mid]\n",
    "        rightarr = arr[mid:]\n",
    "\n",
    "        mergeSort(leftarr)\n",
    "        mergeSort(rightarr)\n",
    "        i = 0\n",
    "        j = 0\n",
    "        k = 0\n",
    "        while i < len(leftarr) and j < len(rightarr):\n",
    "            if leftarr[i] < rightarr[j]:\n",
    "                arr[k] = leftarr[i]\n",
    "                i += 1\n",
    "            else:\n",
    "                arr[k] = rightarr[j]\n",
    "                j += 1\n",
    "            k += 1\n",
    "        while i < len(leftarr):\n",
    "            arr[k] = leftarr[i]\n",
    "            i += 1\n",
    "            k += 1\n",
    "\n",
    "        while j < len(rightarr):\n",
    "            arr[k] = rightarr[j]\n",
    "            j += 1\n",
    "            k += 1\n",
    "\n",
    "        \n",
    "arr = [2,4,3,1,5,6,9,8]\n",
    "mergeSort(arr)\n",
    "print(arr)"
   ]
  },
  {
   "cell_type": "code",
   "execution_count": 12,
   "metadata": {},
   "outputs": [
    {
     "name": "stdout",
     "output_type": "stream",
     "text": [
      "[1, 2, 3, 4, 5, 6, 8, 9]\n"
     ]
    }
   ],
   "source": [
    "# Quick Sort (Get the pivot and divide it based on the pivot and again and again till the last elemenent)\n",
    "\n",
    "def quickSort(arr):\n",
    "    quick_sort_help(arr, 0, len(arr)-1)\n",
    "\n",
    "def quick_sort_help(arr,first, last):\n",
    "    if first < last:\n",
    "        selectpivot = partition(arr, first, last)\n",
    "        quick_sort_help(arr, first, selectpivot-1)\n",
    "        quick_sort_help(arr,selectpivot+1, last)\n",
    "\n",
    "def partition(arr, first, last):\n",
    "    pivotvalue = arr[first]\n",
    "    leftmark = first + 1\n",
    "    rightmark = last\n",
    "    done = False\n",
    "    while not done:\n",
    "        while leftmark <= rightmark and arr[leftmark] <= pivotvalue:\n",
    "            leftmark += 1\n",
    "        while leftmark <= rightmark and arr[rightmark] >= pivotvalue:\n",
    "            rightmark -= 1\n",
    "        if rightmark < leftmark:\n",
    "            done = True\n",
    "        else:\n",
    "            temp = arr[leftmark]\n",
    "            arr[leftmark] = arr[rightmark]\n",
    "            arr[rightmark] = temp\n",
    "    temp = arr[first]\n",
    "    arr[first] = arr[rightmark]\n",
    "    arr[rightmark] = temp\n",
    "    \n",
    "    return rightmark\n",
    "\n",
    "arr = [2,4,3,1,5,6,9,8]\n",
    "quickSort(arr)\n",
    "print(arr)"
   ]
  },
  {
   "cell_type": "code",
   "execution_count": null,
   "metadata": {},
   "outputs": [],
   "source": [
    "# this was all about sorting"
   ]
  }
 ],
 "metadata": {
  "kernelspec": {
   "display_name": "Python 3",
   "language": "python",
   "name": "python3"
  },
  "language_info": {
   "codemirror_mode": {
    "name": "ipython",
    "version": 3
   },
   "file_extension": ".py",
   "mimetype": "text/x-python",
   "name": "python",
   "nbconvert_exporter": "python",
   "pygments_lexer": "ipython3",
   "version": "3.7.3"
  }
 },
 "nbformat": 4,
 "nbformat_minor": 2
}
